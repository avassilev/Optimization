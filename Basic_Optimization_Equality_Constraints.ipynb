{
 "cells": [
  {
   "cell_type": "markdown",
   "metadata": {
    "slideshow": {
     "slide_type": "slide"
    }
   },
   "source": [
    "<center> \n",
    "# R401: Statistical and Mathematical Foundations\n",
    "\n",
    "<br> <br> \n",
    "\n",
    "## <center> Unconstrained Optimization. Static Optimization with Equality Constraints.\n",
    "\n",
    "<br>\n",
    "\n",
    "<center> **Andrey Vassilev**\n",
    "\n",
    "<br> \n",
    "\n",
    "\n",
    " "
   ]
  },
  {
   "cell_type": "markdown",
   "metadata": {
    "slideshow": {
     "slide_type": "slide"
    }
   },
   "source": [
    "# \n",
    "\n"
   ]
  },
  {
   "cell_type": "code",
   "execution_count": 2,
   "metadata": {},
   "outputs": [],
   "source": [
    "# from scipy.optimize import linprog"
   ]
  },
  {
   "cell_type": "markdown",
   "metadata": {
    "slideshow": {
     "slide_type": "slide"
    }
   },
   "source": [
    "If $ f(x) = ax^2 + bx + c $, then $ f'(x) = 2ax + b $ and the condition $ f'(x)=0 $ yields the familiar $ x=-\\frac{b}{2a} $ (recall your high-school days). Depending on the sign of $ a $, this is a maximum or a minimum (What is the relationship?)."
   ]
  },
  {
   "cell_type": "markdown",
   "metadata": {
    "slideshow": {
     "slide_type": "subslide"
    }
   },
   "source": [
    "If $ f(x) = x^3 $, then $ f'(x)=3x^2 $ and $ f'(x)=0 \\Rightarrow x=0$.\n",
    "Does the function attain a maximum or a minimum at $ x=0 $?"
   ]
  },
  {
   "cell_type": "code",
   "execution_count": null,
   "metadata": {
    "slideshow": {
     "slide_type": "-"
    }
   },
   "outputs": [],
   "source": [
    "import numpy as np\n",
    "import matplotlib.pyplot as plt\n",
    "X = np.linspace(-2,2,200)\n",
    "Y = X**3\n",
    "f = plt.figure()\n",
    "plt.plot(X,Y)\n",
    "plt.xlabel('$x$',fontsize=15)\n",
    "plt.ylabel('$x^3$',fontsize=15)\n",
    "plt.show()"
   ]
  },
  {
   "cell_type": "code",
   "execution_count": null,
   "metadata": {
    "slideshow": {
     "slide_type": "slide"
    }
   },
   "outputs": [],
   "source": [
    "from mpl_toolkits.mplot3d import Axes3D\n",
    "from matplotlib import cm\n",
    "import numpy as np\n",
    "import matplotlib.pyplot as plt\n",
    "x,y = np.meshgrid(np.linspace(-3,6,200),np.linspace(-3,3,200))\n",
    "z = x**2 +2*y**2-3*x+x*y\n",
    "fig = plt.figure()\n",
    "ax = fig.gca(projection='3d')         # set the 3d axes\n",
    "ax.plot_surface(x, y, z, \n",
    "                rstride=5, \n",
    "                cstride=5, \n",
    "                alpha=0.3,            # transparency of the surface \n",
    "                cmap=cm.BuPu)         # colour map\n",
    "\n",
    "cset = ax.contourf(x, y, z, \n",
    "                   zdir='z',          # direction of contour projection\n",
    "                   offset=-10,        # how \"far\" render the contour map\n",
    "                   cmap=cm.BuPu)      # colour map\n",
    "ax.set_xlabel('$x$',fontsize=15)\n",
    "ax.set_xlim(-3, 6)\n",
    "ax.set_ylabel('$y$',fontsize=15)\n",
    "ax.set_ylim(-3, 3)\n",
    "ax.set_zlabel('$f(x,y)$',fontsize=15)\n",
    "ax.set_zlim(-10, 50)\n",
    "\n",
    "# ax.set_title('3D surface and contours', va='bottom')\n",
    "\n",
    "ax.view_init(elev=18, azim=-60)           # elevation and angle\n",
    "ax.dist=12   \n",
    "\n",
    "plt.show()"
   ]
  },
  {
   "cell_type": "markdown",
   "metadata": {
    "slideshow": {
     "slide_type": "slide"
    }
   },
   "source": [
    "$$ f(x,y) = x^2 +2y^2-3x+xy $$\n",
    "$$ \\frac{\\partial f}{\\partial x} = 2x-3+y=0\\quad \\Rightarrow \\quad x=\\frac{3-y}{2} $$\n",
    "$$ \\frac{\\partial f}{\\partial y} = 4y+x = 0\\quad \\Rightarrow \\quad y = -\\frac{x}{4}$$\n",
    "$$ x=\\frac{12}{7},~y=-\\frac{3}{7} $$"
   ]
  },
  {
   "cell_type": "markdown",
   "metadata": {
    "slideshow": {
     "slide_type": "slide"
    }
   },
   "source": [
    "Consider the function $ f(x,y) = x^2 - y^2 $. The NCs yield the following candidate: $$ \\frac{\\partial f}{\\partial x} = 2x = 0\\quad \\Rightarrow \\quad x=0, $$\n",
    "$$ \\frac{\\partial f}{\\partial y} = -2y = 0\\quad \\Rightarrow \\quad y = 0.$$ \n",
    "\n",
    "Let's look at the graph of the function in a neighbourhood of the point $ (0,0)' $."
   ]
  },
  {
   "cell_type": "code",
   "execution_count": null,
   "metadata": {
    "slideshow": {
     "slide_type": "slide"
    }
   },
   "outputs": [],
   "source": [
    "from mpl_toolkits.mplot3d import Axes3D\n",
    "from matplotlib import cm\n",
    "import numpy as np\n",
    "import matplotlib.pyplot as plt\n",
    "x,y = np.meshgrid(np.linspace(-6,6,200),np.linspace(-6,6,200))\n",
    "z = x**2 - y**2\n",
    "fig = plt.figure()\n",
    "ax = fig.gca(projection='3d')         # set the 3d axes\n",
    "ax.plot_surface(x, y, z, \n",
    "                rstride=5, \n",
    "                cstride=5, \n",
    "                alpha=0.3,            # transparency of the surface \n",
    "                cmap=cm.BuPu)         # colour map\n",
    "\n",
    "cset = ax.contourf(x, y, z, \n",
    "                   zdir='z',          # direction of contour projection\n",
    "                   offset=-70,        # how \"far\" render the contour map\n",
    "                   cmap=cm.BuPu)      # colour map\n",
    "ax.set_xlabel('$x$',fontsize=15)\n",
    "ax.set_xlim(-6, 6)\n",
    "ax.set_ylabel('$y$',fontsize=15)\n",
    "ax.set_ylim(-6, 6)\n",
    "ax.set_zlabel('$f(x,y)$',fontsize=15)\n",
    "ax.set_zlim(-70, 50)\n",
    "\n",
    "ax.view_init(elev=18, azim=-60)           # elevation and angle\n",
    "ax.dist=12   \n",
    "\n",
    "plt.show()"
   ]
  }
 ],
 "metadata": {
  "celltoolbar": "Slideshow",
  "kernelspec": {
   "display_name": "Python 3",
   "language": "python",
   "name": "python3"
  },
  "language_info": {
   "codemirror_mode": {
    "name": "ipython",
    "version": 3
   },
   "file_extension": ".py",
   "mimetype": "text/x-python",
   "name": "python",
   "nbconvert_exporter": "python",
   "pygments_lexer": "ipython3",
   "version": "3.6.3"
  },
  "livereveal": {
   "auto_select": "code",
   "auto_select_fragment": true,
   "scroll": true,
   "start_slideshow_at": "selected"
  }
 },
 "nbformat": 4,
 "nbformat_minor": 1
}
