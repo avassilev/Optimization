{
 "cells": [
  {
   "cell_type": "markdown",
   "metadata": {
    "slideshow": {
     "slide_type": "slide"
    }
   },
   "source": [
    "<center> \n",
    "# R401: Statistical and Mathematical Foundations\n",
    "\n",
    "<br> <br> \n",
    "\n",
    "## <center> Nonlinear Programming\n",
    "\n",
    "<br>\n",
    "\n",
    "<center> **Andrey Vassilev**\n",
    "\n",
    "<br> \n",
    "\n",
    "\n",
    " "
   ]
  },
  {
   "cell_type": "markdown",
   "metadata": {
    "slideshow": {
     "slide_type": "slide"
    }
   },
   "source": [
    "# Contents\n",
    "\n",
    "- A review of `minimize`\n",
    "- An example of a problem with inequality constraints\n",
    "- An example of a problem with mixed constraints"
   ]
  },
  {
   "cell_type": "code",
   "execution_count": null,
   "metadata": {},
   "outputs": [],
   "source": [
    "%matplotlib notebook\n",
    "import numpy as np\n",
    "import scipy as sp\n",
    "import scipy.optimize as spo"
   ]
  },
  {
   "cell_type": "markdown",
   "metadata": {
    "slideshow": {
     "slide_type": "slide"
    }
   },
   "source": [
    "# A quick review of `minimize`\n",
    "\n",
    "- The function `minimize` from `scipy.optimize` allows us to solve minimization problems subject to eqality and/or inequality constraints. \n",
    "- The general problem solved by `minimize` is the following:\n",
    "$$\\min_{x}f(x)$$ subject to\n",
    "\n",
    "$$g_i(x) \\geq 0,~  i = 1,...,m,$$\n",
    "$$h_j(x)  = 0,~  j = 1,...,p.$$\n",
    "- This can handle the general case of mixed equality and inequality constraints, as well as explicit bounds on variables."
   ]
  },
  {
   "cell_type": "markdown",
   "metadata": {
    "slideshow": {
     "slide_type": "subslide"
    }
   },
   "source": [
    "- Constraints are defined as a tuple of dictionaries passed via the `constraints` keyword argument.\n",
    "- A dictionary defining an equality constraint should have (at least) the structure \n",
    "    ```\n",
    "    {'type' : 'eq', 'fun' : <function>}\n",
    "    ```\n",
    "- A dictionary defining an inequality constraint has the form \n",
    "    ```\n",
    "    {'type' : 'ineq', 'fun' : <function>}\n",
    "    ```\n",
    "- Several constraints of the same type (equality or inequality) can be defined via: \n",
    "  1. Separate dictionaries (one dictionary per constraint)\n",
    "  2. One dictionary containing a vector function that encompasses all the constraints\n",
    "- Bounds on the variables are handled separately via the `bounds` keyword argument."
   ]
  },
  {
   "cell_type": "markdown",
   "metadata": {
    "slideshow": {
     "slide_type": "slide"
    }
   },
   "source": [
    "# A problem with inequality constraints\n",
    "\n",
    "(From the [Scipy docs](https://docs.scipy.org/doc/scipy/reference/generated/scipy.optimize.minimize.html).)\n",
    "\n",
    "Minimize $$f(x_1,x_2) = (x_1-1)^2 + (x_2-2.5)^2$$\n",
    "subject to \n",
    "$$x_1 - 2x_2 + 2 \\geq 0,$$\n",
    "$$-x_1 - 2x_2 + 6 \\geq 0,$$\n",
    "$$-x_1 + 2x_2 + 2 \\geq 0,$$\n",
    "$$x_1\\geq 0,$$\n",
    "$$x_2\\geq 0.$$"
   ]
  },
  {
   "cell_type": "code",
   "execution_count": null,
   "metadata": {},
   "outputs": [],
   "source": [
    "fun = lambda x: (x[0] - 1)**2 + (x[1] - 2.5)**2\n",
    "cons = ({'type': 'ineq', 'fun': lambda x:  x[0] - 2 * x[1] + 2},\n",
    "        {'type': 'ineq', 'fun': lambda x: -x[0] - 2 * x[1] + 6},\n",
    "        {'type': 'ineq', 'fun': lambda x: -x[0] + 2 * x[1] + 2})\n",
    "bnds = ((0, None), (0, None))\n",
    "res = spo.minimize(fun, (2, 0), bounds=bnds, constraints=cons)\n",
    "res"
   ]
  },
  {
   "cell_type": "code",
   "execution_count": null,
   "metadata": {},
   "outputs": [],
   "source": [
    "fun = lambda x: (x[0] - 1)**2 + (x[1] - 2.5)**2\n",
    "cons = ({'type': 'ineq', 'fun': lambda x:  np.array([[1,-1,-1],[-2,-2,2]]).T.dot(x) + np.array([2,6,2])})\n",
    "bnds = ((0, None), (0, None))\n",
    "res = spo.minimize(fun, (2, 0), bounds=bnds, constraints=cons)\n",
    "res"
   ]
  },
  {
   "cell_type": "markdown",
   "metadata": {
    "slideshow": {
     "slide_type": "slide"
    }
   },
   "source": [
    "# A problem with mixed constraints\n",
    "\n",
    "\n",
    "Maximize $$f(x_1,x_2,x_3) = (x_1-1)^2 + (x_2-2)^2 + (x_3-3)^2$$\n",
    "subject to \n",
    "$$x_1^2 + x_2^2 + x_3^2 = 1,$$\n",
    "$$x_1 + x_2 + 0.5 x_3 \\geq 1,$$\n",
    "$$x_1,x_2,x_3\\geq 0.$$"
   ]
  },
  {
   "cell_type": "code",
   "execution_count": null,
   "metadata": {},
   "outputs": [],
   "source": [
    "fun = lambda x: -((x[0] - 1)**2 + (x[1] - 2)**2 + (x[2] - 3)**2)\n",
    "cons = ({'type': 'eq',   'fun': lambda x: x[0]**2 + x[1]**2 + x[2]**2 - 1},\n",
    "        {'type': 'ineq', 'fun': lambda x: x[0] + x[1] + 0.5*x[2] - 1})\n",
    "bnds = ((0, None), (0, None),(0, None))\n",
    "res = spo.minimize(fun, (0, 0, 0), bounds=bnds, constraints=cons)\n",
    "np.sum(res.x**2)\n",
    "np.array([1,1,0.5]).dot(res.x)\n",
    "res"
   ]
  }
 ],
 "metadata": {
  "celltoolbar": "Slideshow",
  "kernelspec": {
   "display_name": "Python 3",
   "language": "python",
   "name": "python3"
  },
  "language_info": {
   "codemirror_mode": {
    "name": "ipython",
    "version": 3
   },
   "file_extension": ".py",
   "mimetype": "text/x-python",
   "name": "python",
   "nbconvert_exporter": "python",
   "pygments_lexer": "ipython3",
   "version": "3.6.3"
  },
  "livereveal": {
   "auto_select": "code",
   "auto_select_fragment": true,
   "scroll": true,
   "start_slideshow_at": "selected"
  }
 },
 "nbformat": 4,
 "nbformat_minor": 1
}
